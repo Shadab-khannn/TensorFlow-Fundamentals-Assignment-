{
 "cells": [
  {
   "cell_type": "markdown",
   "id": "e9c441b4-1d0f-4b9c-80eb-bebedfbac4ab",
   "metadata": {},
   "source": [
    "### Part 1: Theoretical Question"
   ]
  },
  {
   "cell_type": "code",
   "execution_count": null,
   "id": "efd8ea94-3171-4505-8d26-66710d866263",
   "metadata": {},
   "outputs": [],
   "source": [
    "Q1.What are the different data structures used in Tensorflow?. Give some examples?"
   ]
  },
  {
   "cell_type": "markdown",
   "id": "3990cca2-0ebc-48dc-a125-b6a2ba063a2e",
   "metadata": {},
   "source": []
  },
  {
   "cell_type": "code",
   "execution_count": null,
   "id": "62dc284e-c1a6-48ee-bbc6-0223fa64849f",
   "metadata": {},
   "outputs": [],
   "source": [
    "TensorFlow is a framework for building and executing computational graphs, which are structures that represent how data flows across\n",
    "a series of processing nodes. Each node in the graph performs a mathematical operation, and each edge or connection between nodes \n",
    "carries a multidimensional array, or a tensor.\n",
    "\n",
    "Tensors are the basic data structures in TensorFlow. They are defined as N-dimensional arrays or lists of values, where N can be\n",
    "any non-negative integer. Tensors have a shape and a data type (dtype), which specify the number and size of dimensions, and the type\n",
    "of values stored in the tensor, respectively.\n",
    "\n",
    "There are different types of tensors in TensorFlow, depending on their rank (number of dimensions), shape (size of each dimension), \n",
    "and values. Some of the common types of tensors are:\n",
    "\n",
    "- Scalar: A tensor with rank 0, i.e., a single value. For example, tf.constant(42) is a scalar tensor.\n",
    "- Vector: A tensor with rank 1, i.e., a list of values. For example, tf.constant([1, 2, 3]) is a vector tensor.\n",
    "- Matrix: A tensor with rank 2, i.e., a list of lists of values. For example, tf.constant([[1, 2], [3, 4]]) is a matrix tensor.\n",
    "- Tensor: A tensor with rank 3 or higher, i.e., a list of lists of lists of values (or higher-order lists). For example, \n",
    "  tf.constant([[[1, 2], [3, 4]], [[5, 6], [7, 8]]]) is a tensor with rank 3.\n",
    "\n",
    "Tensors can be created from various sources, such as constants, variables, placeholders, operations, or data files.\n",
    "Tensors can also be converted to other data structures, such as NumPy arrays or Python lists.\n",
    "Tensors can be manipulated by applying various operations on them, such as arithmetic operations, slicing and indexing, \n",
    "reshaping and transposing, reducing and aggregating, etc."
   ]
  },
  {
   "cell_type": "code",
   "execution_count": null,
   "id": "323d9937-cc1c-4efe-8cab-0da658bbe477",
   "metadata": {},
   "outputs": [],
   "source": []
  },
  {
   "cell_type": "code",
   "execution_count": null,
   "id": "e892ab20-14e1-4060-ad48-d3c2bd2661fa",
   "metadata": {},
   "outputs": [],
   "source": [
    "Q2.How does the TensorFlow constant differ from a TensorFlow variable? Explain with an example?"
   ]
  },
  {
   "cell_type": "markdown",
   "id": "f6e5e5f6-9ee1-4832-bdaa-46b76791cf01",
   "metadata": {},
   "source": []
  },
  {
   "cell_type": "code",
   "execution_count": null,
   "id": "0046a2f1-4f80-4a6b-a740-cc8440fe9891",
   "metadata": {},
   "outputs": [],
   "source": [
    "The main difference between TensorFlow constants and variables is that constants are immutable and variables are mutable. \n",
    "This means that once you create a constant tensor, you cannot change its value or shape, while you can update a variable tensor with\n",
    "new values or shapes using methods such as tf.assign or tf.Variable.assign.\n",
    "\n",
    "Another difference is that constants are initialized with values, not operations, while variables can be initialized with either \n",
    "values or operations. For example, you can create a constant tensor with tf.constant(42), but not with tf.constant(tf.add(1, 2)).\n",
    "However, you can create a variable tensor with tf.Variable(42) or with tf.Variable(tf.add(1, 2)).\n",
    "\n",
    "A third difference is that constants are stored in the graph definition, while variables are stored separately in memory. \n",
    "This means that constants take up more space in the graph, and can cause memory issues if they are large. Variables, \n",
    "on the other hand, are more efficient in terms of memory usage, and can be saved and restored using checkpoints.\n",
    "\n",
    "To use variables in TensorFlow, you need to initialize them first using methods such as tf.global_variables_initializer or \n",
    "tf.variables_initializer. These methods create operations that assign the initial values to the variables. \n",
    "You need to run these operations in a session before using the variables in other operations. Constants, on the other hand, \n",
    "do not need to be initialized, and can be used directly in the graph."
   ]
  },
  {
   "cell_type": "code",
   "execution_count": null,
   "id": "e0d47dfd-51c1-40d3-a24f-ea81310aaa30",
   "metadata": {},
   "outputs": [],
   "source": []
  },
  {
   "cell_type": "code",
   "execution_count": null,
   "id": "dc39c4c1-98d6-4da5-b9f9-582a3d4cef7e",
   "metadata": {},
   "outputs": [],
   "source": [
    "Q3.Describe the process of matrix addition, multiplication, and elementDwise operations in TensorFlow."
   ]
  },
  {
   "cell_type": "markdown",
   "id": "601f3304-ce68-4475-8517-372d1bf007ce",
   "metadata": {},
   "source": []
  },
  {
   "cell_type": "code",
   "execution_count": null,
   "id": "b52c61f8-7b84-4abd-9c4a-158b9c4022d1",
   "metadata": {},
   "outputs": [],
   "source": [
    "Matrix addition, multiplication, and element-wise operations are common operations in linear algebra and TensorFlow provides various \n",
    "functions to perform them on tensors.\n",
    "\n",
    "Matrix addition is the operation of adding two matrices of the same shape by adding the corresponding elements of each matrix. \n",
    "For example, if A and B are two matrices of shape (m, n), then their sum C is also a matrix of shape (m, n)\n",
    "such that C[i, j] = A[i, j] + B[i, j] for all i and j. In TensorFlow, matrix addition can be done using the function tf.add or \n",
    "the operator +. For example:"
   ]
  },
  {
   "cell_type": "code",
   "execution_count": 4,
   "id": "464011fa-4693-4699-b9ba-a2bcd01ce451",
   "metadata": {},
   "outputs": [
    {
     "name": "stdout",
     "output_type": "stream",
     "text": [
      "Requirement already satisfied: tensorflow in /opt/conda/lib/python3.10/site-packages (2.13.0)\n",
      "Requirement already satisfied: opt-einsum>=2.3.2 in /opt/conda/lib/python3.10/site-packages (from tensorflow) (3.3.0)\n",
      "Requirement already satisfied: absl-py>=1.0.0 in /opt/conda/lib/python3.10/site-packages (from tensorflow) (1.4.0)\n",
      "Requirement already satisfied: google-pasta>=0.1.1 in /opt/conda/lib/python3.10/site-packages (from tensorflow) (0.2.0)\n",
      "Requirement already satisfied: astunparse>=1.6.0 in /opt/conda/lib/python3.10/site-packages (from tensorflow) (1.6.3)\n",
      "Requirement already satisfied: protobuf!=4.21.0,!=4.21.1,!=4.21.2,!=4.21.3,!=4.21.4,!=4.21.5,<5.0.0dev,>=3.20.3 in /opt/conda/lib/python3.10/site-packages (from tensorflow) (4.21.11)\n",
      "Requirement already satisfied: tensorflow-io-gcs-filesystem>=0.23.1 in /opt/conda/lib/python3.10/site-packages (from tensorflow) (0.32.0)\n",
      "Requirement already satisfied: tensorflow-estimator<2.14,>=2.13.0 in /opt/conda/lib/python3.10/site-packages (from tensorflow) (2.13.0)\n",
      "Requirement already satisfied: keras<2.14,>=2.13.1 in /opt/conda/lib/python3.10/site-packages (from tensorflow) (2.13.1)\n",
      "Requirement already satisfied: termcolor>=1.1.0 in /opt/conda/lib/python3.10/site-packages (from tensorflow) (2.3.0)\n",
      "Requirement already satisfied: numpy<=1.24.3,>=1.22 in /opt/conda/lib/python3.10/site-packages (from tensorflow) (1.23.5)\n",
      "Requirement already satisfied: gast<=0.4.0,>=0.2.1 in /opt/conda/lib/python3.10/site-packages (from tensorflow) (0.4.0)\n",
      "Requirement already satisfied: packaging in /opt/conda/lib/python3.10/site-packages (from tensorflow) (22.0)\n",
      "Requirement already satisfied: six>=1.12.0 in /opt/conda/lib/python3.10/site-packages (from tensorflow) (1.16.0)\n",
      "Requirement already satisfied: flatbuffers>=23.1.21 in /opt/conda/lib/python3.10/site-packages (from tensorflow) (23.5.26)\n",
      "Requirement already satisfied: wrapt>=1.11.0 in /opt/conda/lib/python3.10/site-packages (from tensorflow) (1.15.0)\n",
      "Requirement already satisfied: h5py>=2.9.0 in /opt/conda/lib/python3.10/site-packages (from tensorflow) (3.7.0)\n",
      "Requirement already satisfied: libclang>=13.0.0 in /opt/conda/lib/python3.10/site-packages (from tensorflow) (16.0.6)\n",
      "Requirement already satisfied: tensorboard<2.14,>=2.13 in /opt/conda/lib/python3.10/site-packages (from tensorflow) (2.13.0)\n",
      "Requirement already satisfied: grpcio<2.0,>=1.24.3 in /opt/conda/lib/python3.10/site-packages (from tensorflow) (1.56.0)\n",
      "Requirement already satisfied: setuptools in /opt/conda/lib/python3.10/site-packages (from tensorflow) (65.5.1)\n",
      "Requirement already satisfied: typing-extensions<4.6.0,>=3.6.6 in /opt/conda/lib/python3.10/site-packages (from tensorflow) (4.4.0)\n",
      "Requirement already satisfied: wheel<1.0,>=0.23.0 in /opt/conda/lib/python3.10/site-packages (from astunparse>=1.6.0->tensorflow) (0.38.4)\n",
      "Requirement already satisfied: markdown>=2.6.8 in /opt/conda/lib/python3.10/site-packages (from tensorboard<2.14,>=2.13->tensorflow) (3.4.3)\n",
      "Requirement already satisfied: google-auth-oauthlib<1.1,>=0.5 in /opt/conda/lib/python3.10/site-packages (from tensorboard<2.14,>=2.13->tensorflow) (1.0.0)\n",
      "Requirement already satisfied: tensorboard-data-server<0.8.0,>=0.7.0 in /opt/conda/lib/python3.10/site-packages (from tensorboard<2.14,>=2.13->tensorflow) (0.7.1)\n",
      "Requirement already satisfied: requests<3,>=2.21.0 in /opt/conda/lib/python3.10/site-packages (from tensorboard<2.14,>=2.13->tensorflow) (2.28.1)\n",
      "Requirement already satisfied: werkzeug>=1.0.1 in /opt/conda/lib/python3.10/site-packages (from tensorboard<2.14,>=2.13->tensorflow) (2.3.6)\n",
      "Requirement already satisfied: google-auth<3,>=1.6.3 in /opt/conda/lib/python3.10/site-packages (from tensorboard<2.14,>=2.13->tensorflow) (2.22.0)\n",
      "Requirement already satisfied: urllib3<2.0 in /opt/conda/lib/python3.10/site-packages (from google-auth<3,>=1.6.3->tensorboard<2.14,>=2.13->tensorflow) (1.26.13)\n",
      "Requirement already satisfied: cachetools<6.0,>=2.0.0 in /opt/conda/lib/python3.10/site-packages (from google-auth<3,>=1.6.3->tensorboard<2.14,>=2.13->tensorflow) (5.3.1)\n",
      "Requirement already satisfied: rsa<5,>=3.1.4 in /opt/conda/lib/python3.10/site-packages (from google-auth<3,>=1.6.3->tensorboard<2.14,>=2.13->tensorflow) (4.9)\n",
      "Requirement already satisfied: pyasn1-modules>=0.2.1 in /opt/conda/lib/python3.10/site-packages (from google-auth<3,>=1.6.3->tensorboard<2.14,>=2.13->tensorflow) (0.3.0)\n",
      "Requirement already satisfied: requests-oauthlib>=0.7.0 in /opt/conda/lib/python3.10/site-packages (from google-auth-oauthlib<1.1,>=0.5->tensorboard<2.14,>=2.13->tensorflow) (1.3.1)\n",
      "Requirement already satisfied: charset-normalizer<3,>=2 in /opt/conda/lib/python3.10/site-packages (from requests<3,>=2.21.0->tensorboard<2.14,>=2.13->tensorflow) (2.1.1)\n",
      "Requirement already satisfied: certifi>=2017.4.17 in /opt/conda/lib/python3.10/site-packages (from requests<3,>=2.21.0->tensorboard<2.14,>=2.13->tensorflow) (2022.12.7)\n",
      "Requirement already satisfied: idna<4,>=2.5 in /opt/conda/lib/python3.10/site-packages (from requests<3,>=2.21.0->tensorboard<2.14,>=2.13->tensorflow) (3.4)\n",
      "Requirement already satisfied: MarkupSafe>=2.1.1 in /opt/conda/lib/python3.10/site-packages (from werkzeug>=1.0.1->tensorboard<2.14,>=2.13->tensorflow) (2.1.1)\n",
      "Requirement already satisfied: pyasn1<0.6.0,>=0.4.6 in /opt/conda/lib/python3.10/site-packages (from pyasn1-modules>=0.2.1->google-auth<3,>=1.6.3->tensorboard<2.14,>=2.13->tensorflow) (0.5.0)\n",
      "Requirement already satisfied: oauthlib>=3.0.0 in /opt/conda/lib/python3.10/site-packages (from requests-oauthlib>=0.7.0->google-auth-oauthlib<1.1,>=0.5->tensorboard<2.14,>=2.13->tensorflow) (3.2.2)\n"
     ]
    }
   ],
   "source": [
    "!pip install tensorflow"
   ]
  },
  {
   "cell_type": "code",
   "execution_count": 5,
   "id": "70b39dc4-c861-4637-9275-eb0a012b8bca",
   "metadata": {},
   "outputs": [
    {
     "name": "stdout",
     "output_type": "stream",
     "text": [
      "tf.Tensor(\n",
      "[[ 8 10 12]\n",
      " [14 16 18]], shape=(2, 3), dtype=int32)\n"
     ]
    }
   ],
   "source": [
    "import tensorflow as tf\n",
    "\n",
    "# Create two matrices of shape (2, 3)\n",
    "A = tf.constant([[1, 2, 3], [4, 5, 6]])\n",
    "B = tf.constant([[7, 8, 9], [10, 11, 12]])\n",
    "\n",
    "# Add the matrices element-wise\n",
    "C = tf.add(A, B) # or C = A + B\n",
    "\n",
    "# Print the result\n",
    "print(C)"
   ]
  },
  {
   "cell_type": "code",
   "execution_count": null,
   "id": "9ddf5d97-5827-486f-ac07-8678f373a044",
   "metadata": {},
   "outputs": [],
   "source": [
    "Matrix multiplication is the operation of multiplying two matrices of compatible shapes by multiplying the rows of the first matrix\n",
    "with the columns of the second matrix and summing up the products. For example, if A is a matrix of shape (m, n) and B is a matrix \n",
    "of shape (n, p), then their product C is a matrix of shape (m, p) such that C[i, j] = sum(A[i, k] * B[k, j]) for all i and j.\n",
    "In TensorFlow, matrix multiplication can be done using the function tf.linalg.matmul or the operator. For example:"
   ]
  },
  {
   "cell_type": "code",
   "execution_count": 6,
   "id": "600a1022-1349-4e2d-9884-34913f9c25e5",
   "metadata": {},
   "outputs": [
    {
     "name": "stdout",
     "output_type": "stream",
     "text": [
      "tf.Tensor(\n",
      "[[ 58  64]\n",
      " [139 154]], shape=(2, 2), dtype=int32)\n"
     ]
    }
   ],
   "source": [
    "import tensorflow as tf\n",
    "\n",
    "# Create two matrices of shape (2, 3) and (3, 2)\n",
    "A = tf.constant([[1, 2, 3], [4, 5, 6]])\n",
    "B = tf.constant([[7, 8], [9, 10], [11, 12]])\n",
    "\n",
    "# Multiply the matrices\n",
    "C = tf.linalg.matmul(A, B) # or C = A @ B\n",
    "\n",
    "# Print the result\n",
    "print(C)"
   ]
  },
  {
   "cell_type": "code",
   "execution_count": null,
   "id": "8f4389f1-516b-4263-8a37-b9793a753099",
   "metadata": {},
   "outputs": [],
   "source": [
    "Element-wise operations are operations that apply a function to each element of a matrix or a tensor. For example, \n",
    "element-wise square is the operation of squaring each element of a matrix or a tensor. In TensorFlow, element-wise operations can be\n",
    "done using various functions such as tf.square, tf.exp, tf.sin, etc. For example:"
   ]
  },
  {
   "cell_type": "code",
   "execution_count": 7,
   "id": "2a41eb48-44ee-445a-8634-bec8257eefea",
   "metadata": {},
   "outputs": [
    {
     "name": "stdout",
     "output_type": "stream",
     "text": [
      "tf.Tensor(\n",
      "[[ 1  4  9]\n",
      " [16 25 36]], shape=(2, 3), dtype=int32)\n"
     ]
    }
   ],
   "source": [
    "import tensorflow as tf\n",
    "\n",
    "# Create a matrix of shape (2, 3)\n",
    "A = tf.constant([[1, 2, 3], [4, 5, 6]])\n",
    "\n",
    "# Square each element of the matrix\n",
    "B = tf.square(A)\n",
    "\n",
    "# Print the result\n",
    "print(B)"
   ]
  },
  {
   "cell_type": "code",
   "execution_count": null,
   "id": "acb7f07b-849c-49a6-b0ae-6bb1aec3b429",
   "metadata": {},
   "outputs": [],
   "source": []
  },
  {
   "cell_type": "markdown",
   "id": "f27be7a7-8b1e-4a4e-b54b-4e49b655f387",
   "metadata": {},
   "source": [
    "### Part 2: Practical Implementation"
   ]
  },
  {
   "cell_type": "markdown",
   "id": "c5a47a6c-ff0e-46a7-b892-44a1a2bf0ddd",
   "metadata": {},
   "source": [
    "#### Task 1: Creating and Manipulating Matrices"
   ]
  },
  {
   "cell_type": "code",
   "execution_count": null,
   "id": "2a3b51c5-4630-4cff-aa63-4cb489e052e5",
   "metadata": {},
   "outputs": [],
   "source": [
    "1. Create a normal matrix A with dimensions 2x2, using TensorFlow's random_normal function. Display the\n",
    "values of matrix A.\n",
    "2. Create a Gaussian matrix B with dimensions x, using TensorFlow's truncated_normal function. Display\n",
    "the values of matrix B.\n",
    "3. Create a matrix C with dimensions 2x2, where the values are drawn from a normal distribution with a\n",
    "mean of 2 and a standard deviation of 0.x, using TensorFlow's random.normal function. Display the values\n",
    "of matrix C.\n",
    "4. Perform matrix addition between matrix A and matrix B, and store the result in matrix D.\n",
    "5. Perform matrix multiplication between matrix C and matrix D, and store the result in matrix E."
   ]
  },
  {
   "cell_type": "markdown",
   "id": "251735dc-732f-4708-97d6-2820efd7a22c",
   "metadata": {},
   "source": []
  },
  {
   "cell_type": "code",
   "execution_count": 8,
   "id": "a5590124-b220-42eb-9b92-4d9d6020c5bd",
   "metadata": {},
   "outputs": [
    {
     "name": "stdout",
     "output_type": "stream",
     "text": [
      "Matrix A:\n",
      "tf.Tensor(\n",
      "[[ 2.433852   -0.9320342 ]\n",
      " [-0.3646633  -0.74187094]], shape=(2, 2), dtype=float32)\n"
     ]
    }
   ],
   "source": [
    "# 1. Create a normal matrix A with dimensions 2x2, using TensorFlow's random_normal function. Display the values of matrix A.\n",
    "A = tf.random.normal(shape=(2, 2))\n",
    "print(\"Matrix A:\")\n",
    "print(A)"
   ]
  },
  {
   "cell_type": "code",
   "execution_count": 9,
   "id": "ce181a1b-2085-4f29-bead-ff2fb058d6dc",
   "metadata": {},
   "outputs": [
    {
     "name": "stdout",
     "output_type": "stream",
     "text": [
      "Matrix B:\n",
      "tf.Tensor(\n",
      "[[ 0.8802337  -0.08520655]\n",
      " [ 0.737301   -0.08220853]], shape=(2, 2), dtype=float32)\n"
     ]
    }
   ],
   "source": [
    "# 2. Create a Gaussian matrix B with dimensions 2x2, using TensorFlow's truncated_normal function. Display the values of matrix B.\n",
    "B = tf.random.truncated_normal(shape=(2, 2))\n",
    "print(\"Matrix B:\")\n",
    "print(B)"
   ]
  },
  {
   "cell_type": "code",
   "execution_count": 10,
   "id": "6f67f82f-d468-45d2-a14f-a63953f250ec",
   "metadata": {},
   "outputs": [
    {
     "name": "stdout",
     "output_type": "stream",
     "text": [
      "Matrix C:\n",
      "tf.Tensor(\n",
      "[[1.2074707 1.4678328]\n",
      " [1.6818638 1.8952678]], shape=(2, 2), dtype=float32)\n"
     ]
    }
   ],
   "source": [
    "# 3. Create a matrix C with dimensions 2x2, where the values are drawn from a normal distribution with a mean of 2 and a standard \n",
    "#deviation of 0.5, using TensorFlow's random.normal function. Display the values of matrix C.\n",
    "C = tf.random.normal(shape=(2, 2), mean=2, stddev=0.5)\n",
    "print(\"Matrix C:\")\n",
    "print(C)"
   ]
  },
  {
   "cell_type": "code",
   "execution_count": 11,
   "id": "d43e40ce-df3c-4d51-9a4c-5182def166ba",
   "metadata": {},
   "outputs": [
    {
     "name": "stdout",
     "output_type": "stream",
     "text": [
      "Matrix D:\n",
      "tf.Tensor(\n",
      "[[ 3.3140857  -1.0172408 ]\n",
      " [ 0.3726377  -0.82407945]], shape=(2, 2), dtype=float32)\n"
     ]
    }
   ],
   "source": [
    "# 4. Perform matrix addition between matrix A and matrix B, and store the result in matrix D.\n",
    "D = tf.add(A, B)\n",
    "print(\"Matrix D:\")\n",
    "print(D)"
   ]
  },
  {
   "cell_type": "code",
   "execution_count": 12,
   "id": "f17d9534-e452-4c04-b8e6-f5d7724cc286",
   "metadata": {},
   "outputs": [
    {
     "name": "stdout",
     "output_type": "stream",
     "text": [
      "Matrix E:\n",
      "tf.Tensor(\n",
      "[[ 4.548631  -2.437899 ]\n",
      " [ 6.280089  -3.2727118]], shape=(2, 2), dtype=float32)\n"
     ]
    }
   ],
   "source": [
    "# 5. Perform matrix multiplication between matrix C and matrix D, and store the result in matrix E.\n",
    "E = tf.matmul(C, D)\n",
    "print(\"Matrix E:\")\n",
    "print(E)"
   ]
  },
  {
   "cell_type": "code",
   "execution_count": null,
   "id": "a10c3c3f-13c2-4299-9cdf-d0dc7037dfd8",
   "metadata": {},
   "outputs": [],
   "source": []
  },
  {
   "cell_type": "markdown",
   "id": "aa3ce4f8-d738-4791-b1ca-f1dcfa5b349b",
   "metadata": {},
   "source": [
    "### Talk 2: Performing Additional Matrix Operations"
   ]
  },
  {
   "cell_type": "code",
   "execution_count": null,
   "id": "18c0d47c-368b-475f-8d21-415cde412b83",
   "metadata": {},
   "outputs": [],
   "source": [
    "1.Create a matrix F with dimensions 2x2, initialized with random values using TensorFlows random_uniform function.\n",
    "2.Calculate the transpose of matrix F and store the result in matrix G.\n",
    "3.Calculate the elementwise exponential of matrix F and store the result in matrix H.\n",
    "4.Create a matrix I by concatenating matrix F and matrix G horizontally.\n",
    "5.Create a matrix J by concatenating matrix F and matrix H vertically."
   ]
  },
  {
   "cell_type": "code",
   "execution_count": 13,
   "id": "1852ab37-85ff-4223-83ac-507f53018101",
   "metadata": {},
   "outputs": [],
   "source": [
    "import tensorflow as tf"
   ]
  },
  {
   "cell_type": "code",
   "execution_count": 14,
   "id": "625f4361-30d3-4966-acac-e3e50bf61e20",
   "metadata": {},
   "outputs": [
    {
     "name": "stdout",
     "output_type": "stream",
     "text": [
      "Matrix F:\n",
      "tf.Tensor(\n",
      "[[0.97545874 0.57574785]\n",
      " [0.1288836  0.78447556]], shape=(2, 2), dtype=float32)\n"
     ]
    }
   ],
   "source": [
    "# 1. Create a matrix F with dimensions 2x2, initialized with random values using TensorFlow's random_uniform function.\n",
    "F = tf.random.uniform(shape=(2, 2))\n",
    "print(\"Matrix F:\")\n",
    "print(F)"
   ]
  },
  {
   "cell_type": "code",
   "execution_count": 15,
   "id": "835c4941-0fcb-4dc3-adee-a6f9741725d8",
   "metadata": {},
   "outputs": [
    {
     "name": "stdout",
     "output_type": "stream",
     "text": [
      "Matrix G:\n",
      "tf.Tensor(\n",
      "[[0.97545874 0.1288836 ]\n",
      " [0.57574785 0.78447556]], shape=(2, 2), dtype=float32)\n"
     ]
    }
   ],
   "source": [
    "# 2. Calculate the transpose of matrix F and store the result in matrix G.\n",
    "G = tf.transpose(F)\n",
    "print(\"Matrix G:\")\n",
    "print(G)"
   ]
  },
  {
   "cell_type": "code",
   "execution_count": 16,
   "id": "a1a24613-954d-49dc-8829-ee45d52dab75",
   "metadata": {},
   "outputs": [
    {
     "name": "stdout",
     "output_type": "stream",
     "text": [
      "Matrix H:\n",
      "tf.Tensor(\n",
      "[[2.6523838 1.77846  ]\n",
      " [1.1375577 2.1912575]], shape=(2, 2), dtype=float32)\n"
     ]
    }
   ],
   "source": [
    "# 3. Calculate the element-wise exponential of matrix F and store the result in matrix H.\n",
    "H = tf.exp(F)\n",
    "print(\"Matrix H:\")\n",
    "print(H)"
   ]
  },
  {
   "cell_type": "code",
   "execution_count": 17,
   "id": "2221b4df-6897-4d7e-be7b-c44a4c75bb8f",
   "metadata": {},
   "outputs": [
    {
     "name": "stdout",
     "output_type": "stream",
     "text": [
      "Matrix I:\n",
      "tf.Tensor(\n",
      "[[0.97545874 0.57574785 0.97545874 0.1288836 ]\n",
      " [0.1288836  0.78447556 0.57574785 0.78447556]], shape=(2, 4), dtype=float32)\n"
     ]
    }
   ],
   "source": [
    "# 4. Create a matrix I by concatenating matrix F and matrix G horizontally.\n",
    "I = tf.concat([F, G], axis=1)\n",
    "print(\"Matrix I:\")\n",
    "print(I)"
   ]
  },
  {
   "cell_type": "code",
   "execution_count": 18,
   "id": "81a018ae-4610-489f-9380-c0f4776c56a8",
   "metadata": {},
   "outputs": [
    {
     "name": "stdout",
     "output_type": "stream",
     "text": [
      "Matrix J:\n",
      "tf.Tensor(\n",
      "[[0.97545874 0.57574785]\n",
      " [0.1288836  0.78447556]\n",
      " [2.6523838  1.77846   ]\n",
      " [1.1375577  2.1912575 ]], shape=(4, 2), dtype=float32)\n"
     ]
    }
   ],
   "source": [
    "# 5. Create a matrix J by concatenating matrix F and matrix H vertically.\n",
    "J = tf.concat([F, H], axis=0)\n",
    "print(\"Matrix J:\")\n",
    "print(J)"
   ]
  }
 ],
 "metadata": {
  "kernelspec": {
   "display_name": "Python 3 (ipykernel)",
   "language": "python",
   "name": "python3"
  },
  "language_info": {
   "codemirror_mode": {
    "name": "ipython",
    "version": 3
   },
   "file_extension": ".py",
   "mimetype": "text/x-python",
   "name": "python",
   "nbconvert_exporter": "python",
   "pygments_lexer": "ipython3",
   "version": "3.10.8"
  }
 },
 "nbformat": 4,
 "nbformat_minor": 5
}
